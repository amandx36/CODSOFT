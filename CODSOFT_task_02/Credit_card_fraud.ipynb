{
 "cells": [
  {
   "cell_type": "markdown",
   "id": "fa66f948-ece4-41ab-a1c5-c76d999a9b30",
   "metadata": {},
   "source": [
    "# Credit card detection "
   ]
  },
  {
   "cell_type": "markdown",
   "id": "3ef438fe-80b9-4980-8298-27c2df7c24b5",
   "metadata": {},
   "source": [
    "load the data "
   ]
  },
  {
   "cell_type": "markdown",
   "id": "339428cf-420d-4b98-9ee8-cb74cd43a874",
   "metadata": {},
   "source": [
    "| Method      | Why use it?                                              | Code                                         |\n",
    "| ----------- | -------------------------------------------------------- | -------------------------------------------- |\n",
    "| **SMOTE**   | Balance classes by generating synthetic minority samples | `smote = SMOTE()`                            |\n",
    "| **XGBoost** | Powerful model for imbalanced classification problems    | `model = XGBClassifier(scale_pos_weight=10)` |\n"
   ]
  },
  {
   "cell_type": "code",
   "execution_count": 80,
   "id": "1ae7ed56-f96e-405d-87f5-1d5c48ab0dfd",
   "metadata": {},
   "outputs": [],
   "source": [
    "import pandas as pd\n",
    "import numpy as np "
   ]
  },
  {
   "cell_type": "code",
   "execution_count": 81,
   "id": "f93df025-4ca4-4df0-9614-ee63b50b8199",
   "metadata": {},
   "outputs": [
    {
     "data": {
      "text/html": [
       "<div>\n",
       "<style scoped>\n",
       "    .dataframe tbody tr th:only-of-type {\n",
       "        vertical-align: middle;\n",
       "    }\n",
       "\n",
       "    .dataframe tbody tr th {\n",
       "        vertical-align: top;\n",
       "    }\n",
       "\n",
       "    .dataframe thead th {\n",
       "        text-align: right;\n",
       "    }\n",
       "</style>\n",
       "<table border=\"1\" class=\"dataframe\">\n",
       "  <thead>\n",
       "    <tr style=\"text-align: right;\">\n",
       "      <th></th>\n",
       "      <th>Unnamed: 0</th>\n",
       "      <th>trans_date_trans_time</th>\n",
       "      <th>cc_num</th>\n",
       "      <th>merchant</th>\n",
       "      <th>category</th>\n",
       "      <th>amt</th>\n",
       "      <th>first</th>\n",
       "      <th>last</th>\n",
       "      <th>gender</th>\n",
       "      <th>street</th>\n",
       "      <th>...</th>\n",
       "      <th>lat</th>\n",
       "      <th>long</th>\n",
       "      <th>city_pop</th>\n",
       "      <th>job</th>\n",
       "      <th>dob</th>\n",
       "      <th>trans_num</th>\n",
       "      <th>unix_time</th>\n",
       "      <th>merch_lat</th>\n",
       "      <th>merch_long</th>\n",
       "      <th>is_fraud</th>\n",
       "    </tr>\n",
       "  </thead>\n",
       "  <tbody>\n",
       "    <tr>\n",
       "      <th>1005334</th>\n",
       "      <td>1005334</td>\n",
       "      <td>2020-02-17 01:11:11</td>\n",
       "      <td>4067137330196900</td>\n",
       "      <td>fraud_Strosin-Cruickshank</td>\n",
       "      <td>grocery_pos</td>\n",
       "      <td>90.94</td>\n",
       "      <td>Christina</td>\n",
       "      <td>Eaton</td>\n",
       "      <td>F</td>\n",
       "      <td>3256 Brooks Field</td>\n",
       "      <td>...</td>\n",
       "      <td>33.9315</td>\n",
       "      <td>-87.6194</td>\n",
       "      <td>1186</td>\n",
       "      <td>Politician's assistant</td>\n",
       "      <td>1986-11-12</td>\n",
       "      <td>9840ae8a52ee07605f9bbdbcaa5fe727</td>\n",
       "      <td>1361063471</td>\n",
       "      <td>34.019003</td>\n",
       "      <td>-86.630902</td>\n",
       "      <td>0</td>\n",
       "    </tr>\n",
       "  </tbody>\n",
       "</table>\n",
       "<p>1 rows × 23 columns</p>\n",
       "</div>"
      ],
      "text/plain": [
       "         Unnamed: 0 trans_date_trans_time            cc_num  \\\n",
       "1005334     1005334   2020-02-17 01:11:11  4067137330196900   \n",
       "\n",
       "                          merchant     category    amt      first   last  \\\n",
       "1005334  fraud_Strosin-Cruickshank  grocery_pos  90.94  Christina  Eaton   \n",
       "\n",
       "        gender             street  ...      lat     long  city_pop  \\\n",
       "1005334      F  3256 Brooks Field  ...  33.9315 -87.6194      1186   \n",
       "\n",
       "                            job         dob                         trans_num  \\\n",
       "1005334  Politician's assistant  1986-11-12  9840ae8a52ee07605f9bbdbcaa5fe727   \n",
       "\n",
       "          unix_time  merch_lat merch_long  is_fraud  \n",
       "1005334  1361063471  34.019003 -86.630902         0  \n",
       "\n",
       "[1 rows x 23 columns]"
      ]
     },
     "execution_count": 81,
     "metadata": {},
     "output_type": "execute_result"
    }
   ],
   "source": [
    "DataFrame = pd.read_csv('/home/N3xthar-Voryx/Intership03/fraudTrain.csv')\n",
    "DataFrame.sample()"
   ]
  },
  {
   "cell_type": "code",
   "execution_count": 82,
   "id": "d3b5f5bc-f60a-4aa6-baa3-c626e09ac0af",
   "metadata": {},
   "outputs": [
    {
     "data": {
      "text/plain": [
       "(1296675, 23)"
      ]
     },
     "execution_count": 82,
     "metadata": {},
     "output_type": "execute_result"
    }
   ],
   "source": [
    "DataFrame.shape"
   ]
  },
  {
   "cell_type": "code",
   "execution_count": 121,
   "id": "6713cb16-da78-4c0a-9f97-78806c09d1d7",
   "metadata": {},
   "outputs": [
    {
     "name": "stdout",
     "output_type": "stream",
     "text": [
      "         Unnamed: 0 trans_date_trans_time  merchant      amt  gender  city  \\\n",
      "2449           2449   2019-01-02 01:06:37      2489   281.06       0  1513   \n",
      "2472           2472   2019-01-02 01:47:29      2705    11.52       1  5130   \n",
      "2523           2523   2019-01-02 03:05:23      2542   276.31       1  5130   \n",
      "2546           2546   2019-01-02 03:38:03      2705     7.03       0  1513   \n",
      "2553           2553   2019-01-02 03:55:47      2406   275.73       1  5130   \n",
      "...             ...                   ...       ...      ...     ...   ...   \n",
      "1295399     1295399   2020-06-21 01:00:08      1952   977.01       1  1553   \n",
      "1295491     1295491   2020-06-21 01:53:35      3634  1210.91       1  1553   \n",
      "1295532     1295532   2020-06-21 02:16:56      2645    10.24       0  2540   \n",
      "1295666     1295666   2020-06-21 03:26:20      2675    21.69       1  2049   \n",
      "1295733     1295733   2020-06-21 03:59:46      2616    10.20       0  2540   \n",
      "\n",
      "           zip      lat      long  city_pop  ...  state_SD state_TN  state_TX  \\\n",
      "2449     28611  35.9946  -81.7266       885  ...     False    False     False   \n",
      "2472     78208  29.4400  -98.4590   1595797  ...     False    False      True   \n",
      "2523     78208  29.4400  -98.4590   1595797  ...     False    False      True   \n",
      "2546     28611  35.9946  -81.7266       885  ...     False    False     False   \n",
      "2553     78208  29.4400  -98.4590   1595797  ...     False    False      True   \n",
      "...        ...      ...       ...       ...  ...       ...      ...       ...   \n",
      "1295399  32960  27.6330  -80.4031    105638  ...     False    False     False   \n",
      "1295491  32960  27.6330  -80.4031    105638  ...     False    False     False   \n",
      "1295532  70726  30.4590  -90.9027     71335  ...     False    False     False   \n",
      "1295666  79759  31.8599 -102.7413        23  ...     False    False      True   \n",
      "1295733  70726  30.4590  -90.9027     71335  ...     False    False     False   \n",
      "\n",
      "         state_UT  state_VA  state_VT  state_WA  state_WI  state_WV  state_WY  \n",
      "2449        False     False     False     False     False     False     False  \n",
      "2472        False     False     False     False     False     False     False  \n",
      "2523        False     False     False     False     False     False     False  \n",
      "2546        False     False     False     False     False     False     False  \n",
      "2553        False     False     False     False     False     False     False  \n",
      "...           ...       ...       ...       ...       ...       ...       ...  \n",
      "1295399     False     False     False     False     False     False     False  \n",
      "1295491     False     False     False     False     False     False     False  \n",
      "1295532     False     False     False     False     False     False     False  \n",
      "1295666     False     False     False     False     False     False     False  \n",
      "1295733     False     False     False     False     False     False     False  \n",
      "\n",
      "[7506 rows x 80 columns]\n"
     ]
    }
   ],
   "source": [
    "daaa = DataFrame[DataFrame[\"is_fraud\"] == 1 ]\n",
    "print(daaa)"
   ]
  },
  {
   "cell_type": "code",
   "execution_count": 122,
   "id": "24988e12-b331-4302-9072-1a0801823159",
   "metadata": {},
   "outputs": [
    {
     "name": "stdout",
     "output_type": "stream",
     "text": [
      "         Unnamed: 0 trans_date_trans_time  merchant      amt  gender  city  \\\n",
      "2449           2449   2019-01-02 01:06:37      2489   281.06       0  1513   \n",
      "2472           2472   2019-01-02 01:47:29      2705    11.52       1  5130   \n",
      "2523           2523   2019-01-02 03:05:23      2542   276.31       1  5130   \n",
      "2546           2546   2019-01-02 03:38:03      2705     7.03       0  1513   \n",
      "2553           2553   2019-01-02 03:55:47      2406   275.73       1  5130   \n",
      "...             ...                   ...       ...      ...     ...   ...   \n",
      "1295399     1295399   2020-06-21 01:00:08      1952   977.01       1  1553   \n",
      "1295491     1295491   2020-06-21 01:53:35      3634  1210.91       1  1553   \n",
      "1295532     1295532   2020-06-21 02:16:56      2645    10.24       0  2540   \n",
      "1295666     1295666   2020-06-21 03:26:20      2675    21.69       1  2049   \n",
      "1295733     1295733   2020-06-21 03:59:46      2616    10.20       0  2540   \n",
      "\n",
      "           zip      lat      long  city_pop  ...  state_SD state_TN  state_TX  \\\n",
      "2449     28611  35.9946  -81.7266       885  ...     False    False     False   \n",
      "2472     78208  29.4400  -98.4590   1595797  ...     False    False      True   \n",
      "2523     78208  29.4400  -98.4590   1595797  ...     False    False      True   \n",
      "2546     28611  35.9946  -81.7266       885  ...     False    False     False   \n",
      "2553     78208  29.4400  -98.4590   1595797  ...     False    False      True   \n",
      "...        ...      ...       ...       ...  ...       ...      ...       ...   \n",
      "1295399  32960  27.6330  -80.4031    105638  ...     False    False     False   \n",
      "1295491  32960  27.6330  -80.4031    105638  ...     False    False     False   \n",
      "1295532  70726  30.4590  -90.9027     71335  ...     False    False     False   \n",
      "1295666  79759  31.8599 -102.7413        23  ...     False    False      True   \n",
      "1295733  70726  30.4590  -90.9027     71335  ...     False    False     False   \n",
      "\n",
      "         state_UT  state_VA  state_VT  state_WA  state_WI  state_WV  state_WY  \n",
      "2449        False     False     False     False     False     False     False  \n",
      "2472        False     False     False     False     False     False     False  \n",
      "2523        False     False     False     False     False     False     False  \n",
      "2546        False     False     False     False     False     False     False  \n",
      "2553        False     False     False     False     False     False     False  \n",
      "...           ...       ...       ...       ...       ...       ...       ...  \n",
      "1295399     False     False     False     False     False     False     False  \n",
      "1295491     False     False     False     False     False     False     False  \n",
      "1295532     False     False     False     False     False     False     False  \n",
      "1295666     False     False     False     False     False     False     False  \n",
      "1295733     False     False     False     False     False     False     False  \n",
      "\n",
      "[7506 rows x 80 columns]\n"
     ]
    }
   ],
   "source": [
    "daaa = DataFrame[DataFrame[\"is_fraud\"] == 1 ]\n",
    "print(daaa)"
   ]
  },
  {
   "cell_type": "code",
   "execution_count": 83,
   "id": "fcaf1706-04ea-4bde-8c3d-4117e2922a2e",
   "metadata": {},
   "outputs": [
    {
     "data": {
      "text/plain": [
       "(1296675, 23)"
      ]
     },
     "execution_count": 83,
     "metadata": {},
     "output_type": "execute_result"
    }
   ],
   "source": [
    "DataFrame.shape"
   ]
  },
  {
   "cell_type": "code",
   "execution_count": 120,
   "id": "2337b187-5587-457b-9673-7003f7151e5f",
   "metadata": {},
   "outputs": [
    {
     "name": "stdout",
     "output_type": "stream",
     "text": [
      "         Unnamed: 0 trans_date_trans_time  merchant      amt  gender  city  \\\n",
      "2449           2449   2019-01-02 01:06:37      2489   281.06       0  1513   \n",
      "2472           2472   2019-01-02 01:47:29      2705    11.52       1  5130   \n",
      "2523           2523   2019-01-02 03:05:23      2542   276.31       1  5130   \n",
      "2546           2546   2019-01-02 03:38:03      2705     7.03       0  1513   \n",
      "2553           2553   2019-01-02 03:55:47      2406   275.73       1  5130   \n",
      "...             ...                   ...       ...      ...     ...   ...   \n",
      "1295399     1295399   2020-06-21 01:00:08      1952   977.01       1  1553   \n",
      "1295491     1295491   2020-06-21 01:53:35      3634  1210.91       1  1553   \n",
      "1295532     1295532   2020-06-21 02:16:56      2645    10.24       0  2540   \n",
      "1295666     1295666   2020-06-21 03:26:20      2675    21.69       1  2049   \n",
      "1295733     1295733   2020-06-21 03:59:46      2616    10.20       0  2540   \n",
      "\n",
      "           zip      lat      long  city_pop  ...  state_SD state_TN  state_TX  \\\n",
      "2449     28611  35.9946  -81.7266       885  ...     False    False     False   \n",
      "2472     78208  29.4400  -98.4590   1595797  ...     False    False      True   \n",
      "2523     78208  29.4400  -98.4590   1595797  ...     False    False      True   \n",
      "2546     28611  35.9946  -81.7266       885  ...     False    False     False   \n",
      "2553     78208  29.4400  -98.4590   1595797  ...     False    False      True   \n",
      "...        ...      ...       ...       ...  ...       ...      ...       ...   \n",
      "1295399  32960  27.6330  -80.4031    105638  ...     False    False     False   \n",
      "1295491  32960  27.6330  -80.4031    105638  ...     False    False     False   \n",
      "1295532  70726  30.4590  -90.9027     71335  ...     False    False     False   \n",
      "1295666  79759  31.8599 -102.7413        23  ...     False    False      True   \n",
      "1295733  70726  30.4590  -90.9027     71335  ...     False    False     False   \n",
      "\n",
      "         state_UT  state_VA  state_VT  state_WA  state_WI  state_WV  state_WY  \n",
      "2449        False     False     False     False     False     False     False  \n",
      "2472        False     False     False     False     False     False     False  \n",
      "2523        False     False     False     False     False     False     False  \n",
      "2546        False     False     False     False     False     False     False  \n",
      "2553        False     False     False     False     False     False     False  \n",
      "...           ...       ...       ...       ...       ...       ...       ...  \n",
      "1295399     False     False     False     False     False     False     False  \n",
      "1295491     False     False     False     False     False     False     False  \n",
      "1295532     False     False     False     False     False     False     False  \n",
      "1295666     False     False     False     False     False     False     False  \n",
      "1295733     False     False     False     False     False     False     False  \n",
      "\n",
      "[7506 rows x 80 columns]\n"
     ]
    }
   ],
   "source": []
  },
  {
   "cell_type": "code",
   "execution_count": null,
   "id": "3165133a-ae88-428d-ac07-28dadefb66e3",
   "metadata": {},
   "outputs": [],
   "source": []
  },
  {
   "cell_type": "code",
   "execution_count": 84,
   "id": "0969d549-755f-44a4-a3bf-5d5f719c2d4f",
   "metadata": {},
   "outputs": [
    {
     "name": "stdout",
     "output_type": "stream",
     "text": [
      "   Unnamed: 0 trans_date_trans_time            cc_num  \\\n",
      "0           0   2019-01-01 00:00:18  2703186189652095   \n",
      "1           1   2019-01-01 00:00:44      630423337322   \n",
      "2           2   2019-01-01 00:00:51    38859492057661   \n",
      "3           3   2019-01-01 00:01:16  3534093764340240   \n",
      "4           4   2019-01-01 00:03:06   375534208663984   \n",
      "5           5   2019-01-01 00:04:08  4767265376804500   \n",
      "6           6   2019-01-01 00:04:42    30074693890476   \n",
      "7           7   2019-01-01 00:05:08  6011360759745864   \n",
      "8           8   2019-01-01 00:05:18  4922710831011201   \n",
      "9           9   2019-01-01 00:06:01  2720830304681674   \n",
      "\n",
      "                             merchant       category     amt      first  \\\n",
      "0          fraud_Rippin, Kub and Mann       misc_net    4.97   Jennifer   \n",
      "1     fraud_Heller, Gutmann and Zieme    grocery_pos  107.23  Stephanie   \n",
      "2                fraud_Lind-Buckridge  entertainment  220.11     Edward   \n",
      "3  fraud_Kutch, Hermiston and Farrell  gas_transport   45.00     Jeremy   \n",
      "4                 fraud_Keeling-Crist       misc_pos   41.96      Tyler   \n",
      "5    fraud_Stroman, Hudson and Erdman  gas_transport   94.63   Jennifer   \n",
      "6               fraud_Rowe-Vandervort    grocery_net   44.54     Kelsey   \n",
      "7                fraud_Corwin-Collins  gas_transport   71.65     Steven   \n",
      "8                    fraud_Herzog Ltd       misc_pos    4.27    Heather   \n",
      "9   fraud_Schoen, Kuphal and Nitzsche    grocery_pos  198.39    Melissa   \n",
      "\n",
      "       last gender                          street  ...      lat      long  \\\n",
      "0     Banks      F                  561 Perry Cove  ...  36.0788  -81.1781   \n",
      "1      Gill      F    43039 Riley Greens Suite 393  ...  48.8878 -118.2105   \n",
      "2   Sanchez      M        594 White Dale Suite 530  ...  42.1808 -112.2620   \n",
      "3     White      M     9443 Cynthia Court Apt. 038  ...  46.2306 -112.1138   \n",
      "4    Garcia      M                408 Bradley Rest  ...  38.4207  -79.4629   \n",
      "5    Conner      F               4655 David Island  ...  40.3750  -75.2045   \n",
      "6  Richards      F     889 Sarah Station Suite 624  ...  37.9931 -100.9893   \n",
      "7  Williams      M       231 Flores Pass Suite 720  ...  38.8432  -78.6003   \n",
      "8     Chase      F     6888 Hicks Stream Suite 954  ...  40.3359  -79.6607   \n",
      "9   Aguilar      F  21326 Taylor Squares Suite 708  ...  36.5220  -87.3490   \n",
      "\n",
      "   city_pop                                job         dob  \\\n",
      "0      3495          Psychologist, counselling  1988-03-09   \n",
      "1       149  Special educational needs teacher  1978-06-21   \n",
      "2      4154        Nature conservation officer  1962-01-19   \n",
      "3      1939                    Patent attorney  1967-01-12   \n",
      "4        99     Dance movement psychotherapist  1986-03-28   \n",
      "5      2158                  Transport planner  1961-06-19   \n",
      "6      2691                    Arboriculturist  1993-08-16   \n",
      "7      6018               Designer, multimedia  1947-08-21   \n",
      "8      1472          Public affairs consultant  1941-03-07   \n",
      "9    151785                        Pathologist  1974-03-28   \n",
      "\n",
      "                          trans_num   unix_time  merch_lat  merch_long  \\\n",
      "0  0b242abb623afc578575680df30655b9  1325376018  36.011293  -82.048315   \n",
      "1  1f76529f8574734946361c461b024d99  1325376044  49.159047 -118.186462   \n",
      "2  a1a22d70485983eac12b5b88dad1cf95  1325376051  43.150704 -112.154481   \n",
      "3  6b849c168bdad6f867558c3793159a81  1325376076  47.034331 -112.561071   \n",
      "4  a41d7549acf90789359a9aa5346dcb46  1325376186  38.674999  -78.632459   \n",
      "5  189a841a0a8ba03058526bcfe566aab5  1325376248  40.653382  -76.152667   \n",
      "6  83ec1cc84142af6e2acf10c44949e720  1325376282  37.162705 -100.153370   \n",
      "7  6d294ed2cc447d2c71c7171a3d54967c  1325376308  38.948089  -78.540296   \n",
      "8  fc28024ce480f8ef21a32d64c93a29f5  1325376318  40.351813  -79.958146   \n",
      "9  3b9014ea8fb80bd65de0b1463b00b00e  1325376361  37.179198  -87.485381   \n",
      "\n",
      "   is_fraud  \n",
      "0         0  \n",
      "1         0  \n",
      "2         0  \n",
      "3         0  \n",
      "4         0  \n",
      "5         0  \n",
      "6         0  \n",
      "7         0  \n",
      "8         0  \n",
      "9         0  \n",
      "\n",
      "[10 rows x 23 columns]\n"
     ]
    }
   ],
   "source": [
    "print(DataFrame.head(10))\n"
   ]
  },
  {
   "cell_type": "code",
   "execution_count": 85,
   "id": "9c5e0485-d25b-41f5-86b3-9b91d6b82927",
   "metadata": {},
   "outputs": [
    {
     "name": "stdout",
     "output_type": "stream",
     "text": [
      "         Unnamed: 0 trans_date_trans_time               cc_num  \\\n",
      "1296665     1296665   2020-06-21 12:08:42      213193596103206   \n",
      "1296666     1296666   2020-06-21 12:09:22  4587657402165341815   \n",
      "1296667     1296667   2020-06-21 12:10:56     4822367783500458   \n",
      "1296668     1296668   2020-06-21 12:11:23      213141712584544   \n",
      "1296669     1296669   2020-06-21 12:11:36  4400011257587661852   \n",
      "1296670     1296670   2020-06-21 12:12:08       30263540414123   \n",
      "1296671     1296671   2020-06-21 12:12:19     6011149206456997   \n",
      "1296672     1296672   2020-06-21 12:12:32     3514865930894695   \n",
      "1296673     1296673   2020-06-21 12:13:36     2720012583106919   \n",
      "1296674     1296674   2020-06-21 12:13:37  4292902571056973207   \n",
      "\n",
      "                                    merchant        category     amt  \\\n",
      "1296665                  fraud_Gulgowski LLC            home   72.17   \n",
      "1296666    fraud_Hyatt, Russel and Gleichner  health_fitness    7.30   \n",
      "1296667   fraud_Hahn, Douglas and Schowalter          travel   19.71   \n",
      "1296668          fraud_Metz, Russel and Metz       kids_pets  100.85   \n",
      "1296669                 fraud_Stiedemann Inc        misc_pos   37.38   \n",
      "1296670                    fraud_Reichel Inc   entertainment   15.56   \n",
      "1296671             fraud_Abernathy and Sons     food_dining   51.70   \n",
      "1296672                 fraud_Stiedemann Ltd     food_dining  105.93   \n",
      "1296673  fraud_Reinger, Weissnat and Strosin     food_dining   74.90   \n",
      "1296674  fraud_Langosh, Wintheiser and Hyatt     food_dining    4.30   \n",
      "\n",
      "               first       last gender                         street  ...  \\\n",
      "1296665        James       Hunt      M            7369 Gabriel Tunnel  ...   \n",
      "1296666        Amber      Lewis      F       6296 John Keys Suite 858  ...   \n",
      "1296667  Christopher    Farrell      M            97070 Anderson Land  ...   \n",
      "1296668     Margaret     Curtis      F               742 Oneill Shore  ...   \n",
      "1296669      Marissa     Powell      F                474 Allen Haven  ...   \n",
      "1296670         Erik  Patterson      M       162 Jessica Row Apt. 072  ...   \n",
      "1296671      Jeffrey      White      M  8617 Holmes Terrace Suite 651  ...   \n",
      "1296672  Christopher  Castaneda      M     1632 Cohen Drive Suite 639  ...   \n",
      "1296673       Joseph     Murray      M           42933 Ryan Underpass  ...   \n",
      "1296674      Jeffrey      Smith      M           135 Joseph Mountains  ...   \n",
      "\n",
      "             lat      long  city_pop                               job  \\\n",
      "1296665  45.7549  -84.4470        95               Electrical engineer   \n",
      "1296666  41.0646  -87.5917      2135            Psychotherapist, child   \n",
      "1296667  28.0758  -81.5929     33804             Exercise physiologist   \n",
      "1296668  32.1530  -90.1217     19685                       Fine artist   \n",
      "1296669  41.4972  -98.7858       509                 Nurse, children's   \n",
      "1296670  37.7175 -112.4777       258                      Geoscientist   \n",
      "1296671  39.2667  -77.5101       100  Production assistant, television   \n",
      "1296672  32.9396 -105.8189       899                   Naval architect   \n",
      "1296673  43.3526 -102.5411      1126             Volunteer coordinator   \n",
      "1296674  45.8433 -113.8748       218          Therapist, horticultural   \n",
      "\n",
      "                dob                         trans_num   unix_time  merch_lat  \\\n",
      "1296665  1994-02-09  108c103b26f686c24c021aaf4210977e  1371816522  44.938461   \n",
      "1296666  2004-05-08  37a18c6fb0c5c722b6339ffedc82f55a  1371816562  40.556811   \n",
      "1296667  1991-01-01  34e72e0a659a6c8f4a20ee65594f3a7d  1371816656  27.465871   \n",
      "1296668  1984-12-24  0d86d8c17638d7eff77db9c6a878b477  1371816683  31.377697   \n",
      "1296669  1980-09-15  9a7ea2625cf8303efe34e3c09546868f  1371816696  41.728638   \n",
      "1296670  1961-11-24  440b587732da4dc1a6395aba5fb41669  1371816728  36.841266   \n",
      "1296671  1979-12-11  278000d2e0d2277d1de2f890067dcc0a  1371816739  38.906881   \n",
      "1296672  1967-08-30  483f52fe67fabef353d552c1e662974c  1371816752  33.619513   \n",
      "1296673  1980-08-18  d667cdcbadaaed3da3f4020e83591c83  1371816816  42.788940   \n",
      "1296674  1995-08-16  8f7c8e4ab7f25875d753b422917c98c9  1371816817  46.565983   \n",
      "\n",
      "         merch_long  is_fraud  \n",
      "1296665  -83.996234         0  \n",
      "1296666  -88.092339         0  \n",
      "1296667  -81.511804         0  \n",
      "1296668  -90.528450         0  \n",
      "1296669  -99.039660         0  \n",
      "1296670 -111.690765         0  \n",
      "1296671  -78.246528         0  \n",
      "1296672 -105.130529         0  \n",
      "1296673 -103.241160         0  \n",
      "1296674 -114.186110         0  \n",
      "\n",
      "[10 rows x 23 columns]\n"
     ]
    }
   ],
   "source": [
    "print(DataFrame.tail(10))"
   ]
  },
  {
   "cell_type": "code",
   "execution_count": 86,
   "id": "65ca9cdc-bae9-4ecf-a899-8fab66270526",
   "metadata": {},
   "outputs": [],
   "source": [
    "DataFrame = DataFrame.drop(['first','last','street','cc_num','trans_num','unix_time'],axis = 1)"
   ]
  },
  {
   "cell_type": "code",
   "execution_count": 87,
   "id": "d7a2649e-516d-431d-99d3-a754e0d3a4f9",
   "metadata": {},
   "outputs": [
    {
     "name": "stdout",
     "output_type": "stream",
     "text": [
      "   Unnamed: 0 trans_date_trans_time                            merchant  \\\n",
      "0           0   2019-01-01 00:00:18          fraud_Rippin, Kub and Mann   \n",
      "1           1   2019-01-01 00:00:44     fraud_Heller, Gutmann and Zieme   \n",
      "2           2   2019-01-01 00:00:51                fraud_Lind-Buckridge   \n",
      "3           3   2019-01-01 00:01:16  fraud_Kutch, Hermiston and Farrell   \n",
      "4           4   2019-01-01 00:03:06                 fraud_Keeling-Crist   \n",
      "\n",
      "        category     amt gender            city state    zip      lat  \\\n",
      "0       misc_net    4.97      F  Moravian Falls    NC  28654  36.0788   \n",
      "1    grocery_pos  107.23      F          Orient    WA  99160  48.8878   \n",
      "2  entertainment  220.11      M      Malad City    ID  83252  42.1808   \n",
      "3  gas_transport   45.00      M         Boulder    MT  59632  46.2306   \n",
      "4       misc_pos   41.96      M        Doe Hill    VA  24433  38.4207   \n",
      "\n",
      "       long  city_pop                                job         dob  \\\n",
      "0  -81.1781      3495          Psychologist, counselling  1988-03-09   \n",
      "1 -118.2105       149  Special educational needs teacher  1978-06-21   \n",
      "2 -112.2620      4154        Nature conservation officer  1962-01-19   \n",
      "3 -112.1138      1939                    Patent attorney  1967-01-12   \n",
      "4  -79.4629        99     Dance movement psychotherapist  1986-03-28   \n",
      "\n",
      "   merch_lat  merch_long  is_fraud  \n",
      "0  36.011293  -82.048315         0  \n",
      "1  49.159047 -118.186462         0  \n",
      "2  43.150704 -112.154481         0  \n",
      "3  47.034331 -112.561071         0  \n",
      "4  38.674999  -78.632459         0  \n"
     ]
    }
   ],
   "source": [
    "print(DataFrame.head())"
   ]
  },
  {
   "cell_type": "code",
   "execution_count": 88,
   "id": "3c8e031f-3f60-40b3-9ccb-af39012e5fa6",
   "metadata": {},
   "outputs": [
    {
     "data": {
      "text/plain": [
       "(1296675, 17)"
      ]
     },
     "execution_count": 88,
     "metadata": {},
     "output_type": "execute_result"
    }
   ],
   "source": [
    "DataFrame.shape"
   ]
  },
  {
   "cell_type": "markdown",
   "id": "2d248090-b11b-4f36-93f3-1f7dca8563c2",
   "metadata": {},
   "source": [
    "check any one contain the null value or not !! by pritinting "
   ]
  },
  {
   "cell_type": "code",
   "execution_count": 89,
   "id": "f7632c59-88a0-4856-b42a-7a440ec797de",
   "metadata": {},
   "outputs": [
    {
     "name": "stdout",
     "output_type": "stream",
     "text": [
      "Unnamed: 0               0\n",
      "trans_date_trans_time    0\n",
      "merchant                 0\n",
      "category                 0\n",
      "amt                      0\n",
      "gender                   0\n",
      "city                     0\n",
      "state                    0\n",
      "zip                      0\n",
      "lat                      0\n",
      "long                     0\n",
      "city_pop                 0\n",
      "job                      0\n",
      "dob                      0\n",
      "merch_lat                0\n",
      "merch_long               0\n",
      "is_fraud                 0\n",
      "dtype: int64\n"
     ]
    }
   ],
   "source": [
    "print(DataFrame.isnull().sum())"
   ]
  },
  {
   "cell_type": "markdown",
   "id": "010975c7-aa72-41d2-b612-93ccacba6d65",
   "metadata": {},
   "source": [
    "good there is no null value !! "
   ]
  },
  {
   "cell_type": "markdown",
   "id": "b04a9d6e-645a-4016-ba0e-012f346ca435",
   "metadata": {},
   "source": [
    "here we can notice there is a littile text in our data so we need to convert the text \n",
    "into the numbesrs so that our model can understand quickly \n",
    "\n",
    "we are using the different encoding methods for the different methods use case so that machine can interprate and learn easily "
   ]
  },
  {
   "cell_type": "markdown",
   "id": "c303f7bb-2ef9-4449-8b4d-2592547a518b",
   "metadata": {},
   "source": [
    "| Encoding Type                       | Why Used                                                               | Benefits                                                                        | Drawbacks                                                                            |\n",
    "| ----------------------------------- | ---------------------------------------------------------------------- | ------------------------------------------------------------------------------- | ------------------------------------------------------------------------------------ |\n",
    "| **Label Encoding**                  | For **binary or ordinal data** (e.g. gender, grade levels)             | - Simple & fast<br>- No increase in dimensions                                  | - Implies **ordinal relationship**, which is wrong for nominal data                  |\n",
    "| **One-Hot Encoding**                | For **nominal data with few unique categories** (e.g. state, category) | - No ordinal assumption<br>- Easy for models to interpret                       | - **Increases dimensionality** with many unique categories (curse of dimensionality) |\n",
    "| **Frequency Encoding**              | For **high-cardinality nominal data** (e.g. merchant, city)            | - Low memory usage<br>- Keeps feature as single column                          | - May mislead models by implying frequency is related to target                      |\n",
    "| **Ordinal Encoding**                | For **ordered categories** (e.g. low, medium, high)                    | - Simple & preserves order<br>- No extra columns                                | - Not suitable for **nominal data**, creates false order                             |\n",
    "| **Binary Encoding**                 | For **very high-cardinality features**                                 | - Reduces dimensionality compared to One-Hot<br>- No false ordinal relationship | - Slightly complex to implement & interpret                                          |\n",
    "| **Target Encoding (Mean Encoding)** | When category has **strong correlation with target**                   | - Powerful for boosting model performance                                       | - **High risk of data leakage** if not done with proper CV                           |\n"
   ]
  },
  {
   "cell_type": "markdown",
   "id": "16ca4cd7-493b-438f-aa2a-480b65cbfafa",
   "metadata": {},
   "source": [
    "🔷 When to Use\n",
    "✅ Label Encoding: Binary features (e.g. Male/Female)\n",
    "✅ One-Hot Encoding: Nominal features with few unique values\n",
    "✅ Frequency Encoding: Nominal features with many unique values\n",
    "✅ Ordinal Encoding: Categories with natural order\n",
    "✅ Binary Encoding: Very high cardinality to avoid dimensionality explosion\n",
    "✅ Target Encoding: With caution in advanced models (Kaggle, competitions)"
   ]
  },
  {
   "cell_type": "markdown",
   "id": "ade8730d-8311-4007-bd99-71a39602aa38",
   "metadata": {},
   "source": [
    "now we are starting the encoding !! "
   ]
  },
  {
   "cell_type": "code",
   "execution_count": 90,
   "id": "cc670586-f5c3-4a7f-bce2-41328a2e05b4",
   "metadata": {},
   "outputs": [
    {
     "name": "stdout",
     "output_type": "stream",
     "text": [
      "   Unnamed: 0 trans_date_trans_time                         merchant  \\\n",
      "0           0   2019-01-01 00:00:18       fraud_Rippin, Kub and Mann   \n",
      "1           1   2019-01-01 00:00:44  fraud_Heller, Gutmann and Zieme   \n",
      "2           2   2019-01-01 00:00:51             fraud_Lind-Buckridge   \n",
      "\n",
      "        category     amt gender            city state    zip      lat  \\\n",
      "0       misc_net    4.97      F  Moravian Falls    NC  28654  36.0788   \n",
      "1    grocery_pos  107.23      F          Orient    WA  99160  48.8878   \n",
      "2  entertainment  220.11      M      Malad City    ID  83252  42.1808   \n",
      "\n",
      "       long  city_pop                                job         dob  \\\n",
      "0  -81.1781      3495          Psychologist, counselling  1988-03-09   \n",
      "1 -118.2105       149  Special educational needs teacher  1978-06-21   \n",
      "2 -112.2620      4154        Nature conservation officer  1962-01-19   \n",
      "\n",
      "   merch_lat  merch_long  is_fraud  \n",
      "0  36.011293  -82.048315         0  \n",
      "1  49.159047 -118.186462         0  \n",
      "2  43.150704 -112.154481         0  \n"
     ]
    }
   ],
   "source": [
    "print(DataFrame.head(3))"
   ]
  },
  {
   "cell_type": "code",
   "execution_count": 91,
   "id": "6ea617b6-3084-44f5-8f74-8974bf0782b1",
   "metadata": {},
   "outputs": [
    {
     "name": "stdout",
     "output_type": "stream",
     "text": [
      "   Unnamed: 0 trans_date_trans_time                            merchant  \\\n",
      "0           0   2019-01-01 00:00:18          fraud_Rippin, Kub and Mann   \n",
      "1           1   2019-01-01 00:00:44     fraud_Heller, Gutmann and Zieme   \n",
      "2           2   2019-01-01 00:00:51                fraud_Lind-Buckridge   \n",
      "3           3   2019-01-01 00:01:16  fraud_Kutch, Hermiston and Farrell   \n",
      "4           4   2019-01-01 00:03:06                 fraud_Keeling-Crist   \n",
      "\n",
      "        category     amt gender            city state    zip      lat  \\\n",
      "0       misc_net    4.97      F  Moravian Falls    NC  28654  36.0788   \n",
      "1    grocery_pos  107.23      F          Orient    WA  99160  48.8878   \n",
      "2  entertainment  220.11      M      Malad City    ID  83252  42.1808   \n",
      "3  gas_transport   45.00      M         Boulder    MT  59632  46.2306   \n",
      "4       misc_pos   41.96      M        Doe Hill    VA  24433  38.4207   \n",
      "\n",
      "       long  city_pop                                job         dob  \\\n",
      "0  -81.1781      3495          Psychologist, counselling  1988-03-09   \n",
      "1 -118.2105       149  Special educational needs teacher  1978-06-21   \n",
      "2 -112.2620      4154        Nature conservation officer  1962-01-19   \n",
      "3 -112.1138      1939                    Patent attorney  1967-01-12   \n",
      "4  -79.4629        99     Dance movement psychotherapist  1986-03-28   \n",
      "\n",
      "   merch_lat  merch_long  is_fraud  \n",
      "0  36.011293  -82.048315         0  \n",
      "1  49.159047 -118.186462         0  \n",
      "2  43.150704 -112.154481         0  \n",
      "3  47.034331 -112.561071         0  \n",
      "4  38.674999  -78.632459         0  \n"
     ]
    }
   ],
   "source": [
    "print(DataFrame.head())"
   ]
  },
  {
   "cell_type": "code",
   "execution_count": 92,
   "id": "6807ab6e-3fbb-4116-8173-a44950a65ef2",
   "metadata": {},
   "outputs": [
    {
     "name": "stderr",
     "output_type": "stream",
     "text": [
      "/tmp/ipykernel_24154/66789574.py:12: FutureWarning: Downcasting behavior in `replace` is deprecated and will be removed in a future version. To retain the old behavior, explicitly call `result.infer_objects(copy=False)`. To opt-in to the future behavior, set `pd.set_option('future.no_silent_downcasting', True)`\n",
      "  DataFrame['merchant'] = DataFrame['merchant'].replace(merchant_repetation)\n",
      "/tmp/ipykernel_24154/66789574.py:16: FutureWarning: Downcasting behavior in `replace` is deprecated and will be removed in a future version. To retain the old behavior, explicitly call `result.infer_objects(copy=False)`. To opt-in to the future behavior, set `pd.set_option('future.no_silent_downcasting', True)`\n",
      "  DataFrame['city'] = DataFrame['city'].replace(cities_frequency)\n",
      "/tmp/ipykernel_24154/66789574.py:23: FutureWarning: Downcasting behavior in `replace` is deprecated and will be removed in a future version. To retain the old behavior, explicitly call `result.infer_objects(copy=False)`. To opt-in to the future behavior, set `pd.set_option('future.no_silent_downcasting', True)`\n",
      "  DataFrame['job'] = DataFrame['job'].replace(job_frequency)\n"
     ]
    }
   ],
   "source": [
    "DataFrame['gender'] = DataFrame['gender'].map({'M':0,'F':1})    # here we use the label encoding !!! \n",
    "DataFrame = pd.get_dummies(DataFrame, columns = ['category','state'])  # here we are using the one-hot encoding beacuse we dont need and order \n",
    "\n",
    "\n",
    "\n",
    "\n",
    "                                            # frequency encoding !!! \n",
    "\n",
    "# here we done the frequency econding to get the  frequency and train our model by priotizing the frequency so \n",
    "#that we can help our model to predict easily \n",
    "merchant_repetation=  DataFrame['merchant'].value_counts()\n",
    "DataFrame['merchant'] = DataFrame['merchant'].replace(merchant_repetation)\n",
    "\n",
    "# frequency encoding for the cities !!!!! \n",
    "cities_frequency  = DataFrame['city'].value_counts()\n",
    "DataFrame['city'] = DataFrame['city'].replace(cities_frequency)\n",
    "\n",
    "\n",
    "# for job we are dong the frequency encoding means whci job field suffers more damages !! \n",
    "\n",
    "job_frequency = DataFrame['job'].value_counts()\n",
    "\n",
    "DataFrame['job'] = DataFrame['job'].replace(job_frequency)"
   ]
  },
  {
   "cell_type": "code",
   "execution_count": 93,
   "id": "92786cb2-50ae-4491-a88b-b9b63d95a520",
   "metadata": {},
   "outputs": [
    {
     "name": "stdout",
     "output_type": "stream",
     "text": [
      "   Unnamed: 0 trans_date_trans_time  merchant     amt  gender  city    zip  \\\n",
      "0           0   2019-01-01 00:00:18      1267    4.97       1  2028  28654   \n",
      "1           1   2019-01-01 00:00:44      2503  107.23       1  3545  99160   \n",
      "2           2   2019-01-01 00:00:51      1895  220.11       0   503  83252   \n",
      "\n",
      "       lat      long  city_pop  ...  state_SD state_TN  state_TX  state_UT  \\\n",
      "0  36.0788  -81.1781      3495  ...     False    False     False     False   \n",
      "1  48.8878 -118.2105       149  ...     False    False     False     False   \n",
      "2  42.1808 -112.2620      4154  ...     False    False     False     False   \n",
      "\n",
      "   state_VA  state_VT  state_WA  state_WI  state_WV  state_WY  \n",
      "0     False     False     False     False     False     False  \n",
      "1     False     False      True     False     False     False  \n",
      "2     False     False     False     False     False     False  \n",
      "\n",
      "[3 rows x 80 columns]\n"
     ]
    }
   ],
   "source": [
    "print(DataFrame.head(3))"
   ]
  },
  {
   "cell_type": "code",
   "execution_count": 94,
   "id": "edbf45bc-eab8-41c8-8c2e-cfb7b46d32f1",
   "metadata": {},
   "outputs": [
    {
     "data": {
      "text/plain": [
       "(1296675, 80)"
      ]
     },
     "execution_count": 94,
     "metadata": {},
     "output_type": "execute_result"
    }
   ],
   "source": [
    "DataFrame.shape"
   ]
  },
  {
   "cell_type": "code",
   "execution_count": 95,
   "id": "a38db40c-5193-42a3-bf9a-45adf47bc548",
   "metadata": {},
   "outputs": [
    {
     "name": "stdout",
     "output_type": "stream",
     "text": [
      "   Unnamed: 0 trans_date_trans_time  merchant     amt  gender  city    zip  \\\n",
      "0           0   2019-01-01 00:00:18      1267    4.97       1  2028  28654   \n",
      "1           1   2019-01-01 00:00:44      2503  107.23       1  3545  99160   \n",
      "2           2   2019-01-01 00:00:51      1895  220.11       0   503  83252   \n",
      "3           3   2019-01-01 00:01:16      2613   45.00       0   493  59632   \n",
      "4           4   2019-01-01 00:03:06      1592   41.96       0  2017  24433   \n",
      "\n",
      "       lat      long  city_pop  ...  state_SD state_TN  state_TX  state_UT  \\\n",
      "0  36.0788  -81.1781      3495  ...     False    False     False     False   \n",
      "1  48.8878 -118.2105       149  ...     False    False     False     False   \n",
      "2  42.1808 -112.2620      4154  ...     False    False     False     False   \n",
      "3  46.2306 -112.1138      1939  ...     False    False     False     False   \n",
      "4  38.4207  -79.4629        99  ...     False    False     False     False   \n",
      "\n",
      "   state_VA  state_VT  state_WA  state_WI  state_WV  state_WY  \n",
      "0     False     False     False     False     False     False  \n",
      "1     False     False      True     False     False     False  \n",
      "2     False     False     False     False     False     False  \n",
      "3     False     False     False     False     False     False  \n",
      "4      True     False     False     False     False     False  \n",
      "\n",
      "[5 rows x 80 columns]\n"
     ]
    }
   ],
   "source": [
    "print(DataFrame.head())"
   ]
  },
  {
   "cell_type": "code",
   "execution_count": 96,
   "id": "288a5034-32fe-4505-b771-86d8492ba53e",
   "metadata": {},
   "outputs": [],
   "source": [
    "# define the x and y to pass in the fucntion in the trian test split \n",
    "\n",
    "x = DataFrame.drop(['is_fraud','trans_date_trans_time','dob'],axis = 1 )\n",
    "y = DataFrame['is_fraud' ]"
   ]
  },
  {
   "cell_type": "markdown",
   "id": "39475255-aa01-4d4b-b55f-b99c2941b2ce",
   "metadata": {},
   "source": [
    "now we are applying the train_test_split for our data !! "
   ]
  },
  {
   "cell_type": "markdown",
   "id": "7c54df20-4c32-4629-86e5-a5e82c0dfead",
   "metadata": {},
   "source": [
    "| Return       | Meaning                                          |\n",
    "| ------------ | ------------------------------------------------ |\n",
    "| **X\\_train** | Training features (e.g. 80% of X)                |\n",
    "| **X\\_test**  | Testing features (e.g. 20% of X)                 |\n",
    "| **y\\_train** | Training labels (corresponding to X\\_train rows) |\n",
    "| **y\\_test**  | Testing labels (corresponding to X\\_test rows)   |\n"
   ]
  },
  {
   "cell_type": "markdown",
   "id": "cb37a4b3-01b1-42bb-b4c4-36a005ef96c7",
   "metadata": {},
   "source": [
    "now we need the total number of column to matches with user input brother so we are doing this brother !! "
   ]
  },
  {
   "cell_type": "code",
   "execution_count": 97,
   "id": "51dc0a1d-8fcd-4e76-915d-330972d17f9f",
   "metadata": {},
   "outputs": [],
   "source": [
    "x_columns = list(x.columns)    # convert the pandas index into the  list of string "
   ]
  },
  {
   "cell_type": "code",
   "execution_count": null,
   "id": "15451fa9-0ee0-4b2e-9409-df65cbd86480",
   "metadata": {},
   "outputs": [],
   "source": []
  },
  {
   "cell_type": "markdown",
   "id": "4dd6388d-7de1-4101-9b30-7f9b4f457fa3",
   "metadata": {},
   "source": [
    "# Simple Train Test Spilt !! "
   ]
  },
  {
   "cell_type": "code",
   "execution_count": null,
   "id": "cb0ef318-15d1-4a37-b3b6-eeaed88f5d9b",
   "metadata": {},
   "outputs": [],
   "source": []
  },
  {
   "cell_type": "code",
   "execution_count": 98,
   "id": "343e0ba9-df0f-4ce5-9efc-9eb0cb2eeb15",
   "metadata": {},
   "outputs": [],
   "source": [
    "from sklearn.model_selection import train_test_split "
   ]
  },
  {
   "cell_type": "code",
   "execution_count": 99,
   "id": "d6bf76f2-9b29-4345-8932-c0926db3bcb3",
   "metadata": {},
   "outputs": [],
   "source": [
    "x_trained_data, x_test_data , y_trained_data , y_test_data = train_test_split(x,y, test_size = 0.2 , stratify = y , random_state= 42 )\n"
   ]
  },
  {
   "cell_type": "code",
   "execution_count": 100,
   "id": "fb9aca4a-d38e-414b-9760-2398bf137a2d",
   "metadata": {},
   "outputs": [],
   "source": [
    "# pip install --upgrade scikit-learn imbalanced-learn\n"
   ]
  },
  {
   "cell_type": "markdown",
   "id": "e207787b-570a-40ae-aaff-afd159f4f621",
   "metadata": {},
   "source": [
    "# Train Test Split using the smote !!"
   ]
  },
  {
   "cell_type": "code",
   "execution_count": 101,
   "id": "027d8430-20ae-4c7e-871b-3a94a86a3bb0",
   "metadata": {},
   "outputs": [],
   "source": [
    "# we are creating the oversampling !! for generating the for this i am using the SMOTE \n",
    "\n",
    "# initilizing the SMOTE \n",
    "\n",
    "\n",
    "from imblearn.over_sampling import SMOTE\n",
    "\n",
    "\n",
    "smote = SMOTE(random_state = 42)\n",
    "x_trained_data_smote , y_trained_data_smote = smote.fit_resample(x_trained_data,y_trained_data)\n"
   ]
  },
  {
   "cell_type": "markdown",
   "id": "0f42bae2-d253-4fcd-908f-c9916f3018d4",
   "metadata": {},
   "source": [
    "# Stratify \n",
    "The train and test sets have the same class distribution as the original dataset.\n",
    "why we use the stratify only on the y a that is output only !! -->>>> because Stratification is always based on the target variable (y) to maintain its class proportion.\n"
   ]
  },
  {
   "cell_type": "markdown",
   "id": "63928564-0f53-4a52-9c37-f3ecc5fc373f",
   "metadata": {},
   "source": [
    "# model training and precision checking "
   ]
  },
  {
   "cell_type": "code",
   "execution_count": 102,
   "id": "8007a910-87df-440b-8726-6b4707d88d58",
   "metadata": {},
   "outputs": [
    {
     "name": "stdout",
     "output_type": "stream",
     "text": [
      "   Unnamed: 0 trans_date_trans_time  merchant     amt  gender  city    zip  \\\n",
      "0           0   2019-01-01 00:00:18      1267    4.97       1  2028  28654   \n",
      "1           1   2019-01-01 00:00:44      2503  107.23       1  3545  99160   \n",
      "2           2   2019-01-01 00:00:51      1895  220.11       0   503  83252   \n",
      "3           3   2019-01-01 00:01:16      2613   45.00       0   493  59632   \n",
      "4           4   2019-01-01 00:03:06      1592   41.96       0  2017  24433   \n",
      "\n",
      "       lat      long  city_pop  ...  state_SD state_TN  state_TX  state_UT  \\\n",
      "0  36.0788  -81.1781      3495  ...     False    False     False     False   \n",
      "1  48.8878 -118.2105       149  ...     False    False     False     False   \n",
      "2  42.1808 -112.2620      4154  ...     False    False     False     False   \n",
      "3  46.2306 -112.1138      1939  ...     False    False     False     False   \n",
      "4  38.4207  -79.4629        99  ...     False    False     False     False   \n",
      "\n",
      "   state_VA  state_VT  state_WA  state_WI  state_WV  state_WY  \n",
      "0     False     False     False     False     False     False  \n",
      "1     False     False      True     False     False     False  \n",
      "2     False     False     False     False     False     False  \n",
      "3     False     False     False     False     False     False  \n",
      "4      True     False     False     False     False     False  \n",
      "\n",
      "[5 rows x 80 columns]\n"
     ]
    }
   ],
   "source": [
    "print(DataFrame.head(5))"
   ]
  },
  {
   "cell_type": "markdown",
   "id": "6307f442-7fcb-4c3f-b870-47dc71174b55",
   "metadata": {},
   "source": [
    "# Model 01 "
   ]
  },
  {
   "cell_type": "code",
   "execution_count": 103,
   "id": "bbca8f6e-30c5-4b4d-ac03-8c112b7a3c44",
   "metadata": {},
   "outputs": [
    {
     "data": {
      "text/html": [
       "<style>#sk-container-id-3 {\n",
       "  /* Definition of color scheme common for light and dark mode */\n",
       "  --sklearn-color-text: #000;\n",
       "  --sklearn-color-text-muted: #666;\n",
       "  --sklearn-color-line: gray;\n",
       "  /* Definition of color scheme for unfitted estimators */\n",
       "  --sklearn-color-unfitted-level-0: #fff5e6;\n",
       "  --sklearn-color-unfitted-level-1: #f6e4d2;\n",
       "  --sklearn-color-unfitted-level-2: #ffe0b3;\n",
       "  --sklearn-color-unfitted-level-3: chocolate;\n",
       "  /* Definition of color scheme for fitted estimators */\n",
       "  --sklearn-color-fitted-level-0: #f0f8ff;\n",
       "  --sklearn-color-fitted-level-1: #d4ebff;\n",
       "  --sklearn-color-fitted-level-2: #b3dbfd;\n",
       "  --sklearn-color-fitted-level-3: cornflowerblue;\n",
       "\n",
       "  /* Specific color for light theme */\n",
       "  --sklearn-color-text-on-default-background: var(--sg-text-color, var(--theme-code-foreground, var(--jp-content-font-color1, black)));\n",
       "  --sklearn-color-background: var(--sg-background-color, var(--theme-background, var(--jp-layout-color0, white)));\n",
       "  --sklearn-color-border-box: var(--sg-text-color, var(--theme-code-foreground, var(--jp-content-font-color1, black)));\n",
       "  --sklearn-color-icon: #696969;\n",
       "\n",
       "  @media (prefers-color-scheme: dark) {\n",
       "    /* Redefinition of color scheme for dark theme */\n",
       "    --sklearn-color-text-on-default-background: var(--sg-text-color, var(--theme-code-foreground, var(--jp-content-font-color1, white)));\n",
       "    --sklearn-color-background: var(--sg-background-color, var(--theme-background, var(--jp-layout-color0, #111)));\n",
       "    --sklearn-color-border-box: var(--sg-text-color, var(--theme-code-foreground, var(--jp-content-font-color1, white)));\n",
       "    --sklearn-color-icon: #878787;\n",
       "  }\n",
       "}\n",
       "\n",
       "#sk-container-id-3 {\n",
       "  color: var(--sklearn-color-text);\n",
       "}\n",
       "\n",
       "#sk-container-id-3 pre {\n",
       "  padding: 0;\n",
       "}\n",
       "\n",
       "#sk-container-id-3 input.sk-hidden--visually {\n",
       "  border: 0;\n",
       "  clip: rect(1px 1px 1px 1px);\n",
       "  clip: rect(1px, 1px, 1px, 1px);\n",
       "  height: 1px;\n",
       "  margin: -1px;\n",
       "  overflow: hidden;\n",
       "  padding: 0;\n",
       "  position: absolute;\n",
       "  width: 1px;\n",
       "}\n",
       "\n",
       "#sk-container-id-3 div.sk-dashed-wrapped {\n",
       "  border: 1px dashed var(--sklearn-color-line);\n",
       "  margin: 0 0.4em 0.5em 0.4em;\n",
       "  box-sizing: border-box;\n",
       "  padding-bottom: 0.4em;\n",
       "  background-color: var(--sklearn-color-background);\n",
       "}\n",
       "\n",
       "#sk-container-id-3 div.sk-container {\n",
       "  /* jupyter's `normalize.less` sets `[hidden] { display: none; }`\n",
       "     but bootstrap.min.css set `[hidden] { display: none !important; }`\n",
       "     so we also need the `!important` here to be able to override the\n",
       "     default hidden behavior on the sphinx rendered scikit-learn.org.\n",
       "     See: https://github.com/scikit-learn/scikit-learn/issues/21755 */\n",
       "  display: inline-block !important;\n",
       "  position: relative;\n",
       "}\n",
       "\n",
       "#sk-container-id-3 div.sk-text-repr-fallback {\n",
       "  display: none;\n",
       "}\n",
       "\n",
       "div.sk-parallel-item,\n",
       "div.sk-serial,\n",
       "div.sk-item {\n",
       "  /* draw centered vertical line to link estimators */\n",
       "  background-image: linear-gradient(var(--sklearn-color-text-on-default-background), var(--sklearn-color-text-on-default-background));\n",
       "  background-size: 2px 100%;\n",
       "  background-repeat: no-repeat;\n",
       "  background-position: center center;\n",
       "}\n",
       "\n",
       "/* Parallel-specific style estimator block */\n",
       "\n",
       "#sk-container-id-3 div.sk-parallel-item::after {\n",
       "  content: \"\";\n",
       "  width: 100%;\n",
       "  border-bottom: 2px solid var(--sklearn-color-text-on-default-background);\n",
       "  flex-grow: 1;\n",
       "}\n",
       "\n",
       "#sk-container-id-3 div.sk-parallel {\n",
       "  display: flex;\n",
       "  align-items: stretch;\n",
       "  justify-content: center;\n",
       "  background-color: var(--sklearn-color-background);\n",
       "  position: relative;\n",
       "}\n",
       "\n",
       "#sk-container-id-3 div.sk-parallel-item {\n",
       "  display: flex;\n",
       "  flex-direction: column;\n",
       "}\n",
       "\n",
       "#sk-container-id-3 div.sk-parallel-item:first-child::after {\n",
       "  align-self: flex-end;\n",
       "  width: 50%;\n",
       "}\n",
       "\n",
       "#sk-container-id-3 div.sk-parallel-item:last-child::after {\n",
       "  align-self: flex-start;\n",
       "  width: 50%;\n",
       "}\n",
       "\n",
       "#sk-container-id-3 div.sk-parallel-item:only-child::after {\n",
       "  width: 0;\n",
       "}\n",
       "\n",
       "/* Serial-specific style estimator block */\n",
       "\n",
       "#sk-container-id-3 div.sk-serial {\n",
       "  display: flex;\n",
       "  flex-direction: column;\n",
       "  align-items: center;\n",
       "  background-color: var(--sklearn-color-background);\n",
       "  padding-right: 1em;\n",
       "  padding-left: 1em;\n",
       "}\n",
       "\n",
       "\n",
       "/* Toggleable style: style used for estimator/Pipeline/ColumnTransformer box that is\n",
       "clickable and can be expanded/collapsed.\n",
       "- Pipeline and ColumnTransformer use this feature and define the default style\n",
       "- Estimators will overwrite some part of the style using the `sk-estimator` class\n",
       "*/\n",
       "\n",
       "/* Pipeline and ColumnTransformer style (default) */\n",
       "\n",
       "#sk-container-id-3 div.sk-toggleable {\n",
       "  /* Default theme specific background. It is overwritten whether we have a\n",
       "  specific estimator or a Pipeline/ColumnTransformer */\n",
       "  background-color: var(--sklearn-color-background);\n",
       "}\n",
       "\n",
       "/* Toggleable label */\n",
       "#sk-container-id-3 label.sk-toggleable__label {\n",
       "  cursor: pointer;\n",
       "  display: flex;\n",
       "  width: 100%;\n",
       "  margin-bottom: 0;\n",
       "  padding: 0.5em;\n",
       "  box-sizing: border-box;\n",
       "  text-align: center;\n",
       "  align-items: start;\n",
       "  justify-content: space-between;\n",
       "  gap: 0.5em;\n",
       "}\n",
       "\n",
       "#sk-container-id-3 label.sk-toggleable__label .caption {\n",
       "  font-size: 0.6rem;\n",
       "  font-weight: lighter;\n",
       "  color: var(--sklearn-color-text-muted);\n",
       "}\n",
       "\n",
       "#sk-container-id-3 label.sk-toggleable__label-arrow:before {\n",
       "  /* Arrow on the left of the label */\n",
       "  content: \"▸\";\n",
       "  float: left;\n",
       "  margin-right: 0.25em;\n",
       "  color: var(--sklearn-color-icon);\n",
       "}\n",
       "\n",
       "#sk-container-id-3 label.sk-toggleable__label-arrow:hover:before {\n",
       "  color: var(--sklearn-color-text);\n",
       "}\n",
       "\n",
       "/* Toggleable content - dropdown */\n",
       "\n",
       "#sk-container-id-3 div.sk-toggleable__content {\n",
       "  max-height: 0;\n",
       "  max-width: 0;\n",
       "  overflow: hidden;\n",
       "  text-align: left;\n",
       "  /* unfitted */\n",
       "  background-color: var(--sklearn-color-unfitted-level-0);\n",
       "}\n",
       "\n",
       "#sk-container-id-3 div.sk-toggleable__content.fitted {\n",
       "  /* fitted */\n",
       "  background-color: var(--sklearn-color-fitted-level-0);\n",
       "}\n",
       "\n",
       "#sk-container-id-3 div.sk-toggleable__content pre {\n",
       "  margin: 0.2em;\n",
       "  border-radius: 0.25em;\n",
       "  color: var(--sklearn-color-text);\n",
       "  /* unfitted */\n",
       "  background-color: var(--sklearn-color-unfitted-level-0);\n",
       "}\n",
       "\n",
       "#sk-container-id-3 div.sk-toggleable__content.fitted pre {\n",
       "  /* unfitted */\n",
       "  background-color: var(--sklearn-color-fitted-level-0);\n",
       "}\n",
       "\n",
       "#sk-container-id-3 input.sk-toggleable__control:checked~div.sk-toggleable__content {\n",
       "  /* Expand drop-down */\n",
       "  max-height: 200px;\n",
       "  max-width: 100%;\n",
       "  overflow: auto;\n",
       "}\n",
       "\n",
       "#sk-container-id-3 input.sk-toggleable__control:checked~label.sk-toggleable__label-arrow:before {\n",
       "  content: \"▾\";\n",
       "}\n",
       "\n",
       "/* Pipeline/ColumnTransformer-specific style */\n",
       "\n",
       "#sk-container-id-3 div.sk-label input.sk-toggleable__control:checked~label.sk-toggleable__label {\n",
       "  color: var(--sklearn-color-text);\n",
       "  background-color: var(--sklearn-color-unfitted-level-2);\n",
       "}\n",
       "\n",
       "#sk-container-id-3 div.sk-label.fitted input.sk-toggleable__control:checked~label.sk-toggleable__label {\n",
       "  background-color: var(--sklearn-color-fitted-level-2);\n",
       "}\n",
       "\n",
       "/* Estimator-specific style */\n",
       "\n",
       "/* Colorize estimator box */\n",
       "#sk-container-id-3 div.sk-estimator input.sk-toggleable__control:checked~label.sk-toggleable__label {\n",
       "  /* unfitted */\n",
       "  background-color: var(--sklearn-color-unfitted-level-2);\n",
       "}\n",
       "\n",
       "#sk-container-id-3 div.sk-estimator.fitted input.sk-toggleable__control:checked~label.sk-toggleable__label {\n",
       "  /* fitted */\n",
       "  background-color: var(--sklearn-color-fitted-level-2);\n",
       "}\n",
       "\n",
       "#sk-container-id-3 div.sk-label label.sk-toggleable__label,\n",
       "#sk-container-id-3 div.sk-label label {\n",
       "  /* The background is the default theme color */\n",
       "  color: var(--sklearn-color-text-on-default-background);\n",
       "}\n",
       "\n",
       "/* On hover, darken the color of the background */\n",
       "#sk-container-id-3 div.sk-label:hover label.sk-toggleable__label {\n",
       "  color: var(--sklearn-color-text);\n",
       "  background-color: var(--sklearn-color-unfitted-level-2);\n",
       "}\n",
       "\n",
       "/* Label box, darken color on hover, fitted */\n",
       "#sk-container-id-3 div.sk-label.fitted:hover label.sk-toggleable__label.fitted {\n",
       "  color: var(--sklearn-color-text);\n",
       "  background-color: var(--sklearn-color-fitted-level-2);\n",
       "}\n",
       "\n",
       "/* Estimator label */\n",
       "\n",
       "#sk-container-id-3 div.sk-label label {\n",
       "  font-family: monospace;\n",
       "  font-weight: bold;\n",
       "  display: inline-block;\n",
       "  line-height: 1.2em;\n",
       "}\n",
       "\n",
       "#sk-container-id-3 div.sk-label-container {\n",
       "  text-align: center;\n",
       "}\n",
       "\n",
       "/* Estimator-specific */\n",
       "#sk-container-id-3 div.sk-estimator {\n",
       "  font-family: monospace;\n",
       "  border: 1px dotted var(--sklearn-color-border-box);\n",
       "  border-radius: 0.25em;\n",
       "  box-sizing: border-box;\n",
       "  margin-bottom: 0.5em;\n",
       "  /* unfitted */\n",
       "  background-color: var(--sklearn-color-unfitted-level-0);\n",
       "}\n",
       "\n",
       "#sk-container-id-3 div.sk-estimator.fitted {\n",
       "  /* fitted */\n",
       "  background-color: var(--sklearn-color-fitted-level-0);\n",
       "}\n",
       "\n",
       "/* on hover */\n",
       "#sk-container-id-3 div.sk-estimator:hover {\n",
       "  /* unfitted */\n",
       "  background-color: var(--sklearn-color-unfitted-level-2);\n",
       "}\n",
       "\n",
       "#sk-container-id-3 div.sk-estimator.fitted:hover {\n",
       "  /* fitted */\n",
       "  background-color: var(--sklearn-color-fitted-level-2);\n",
       "}\n",
       "\n",
       "/* Specification for estimator info (e.g. \"i\" and \"?\") */\n",
       "\n",
       "/* Common style for \"i\" and \"?\" */\n",
       "\n",
       ".sk-estimator-doc-link,\n",
       "a:link.sk-estimator-doc-link,\n",
       "a:visited.sk-estimator-doc-link {\n",
       "  float: right;\n",
       "  font-size: smaller;\n",
       "  line-height: 1em;\n",
       "  font-family: monospace;\n",
       "  background-color: var(--sklearn-color-background);\n",
       "  border-radius: 1em;\n",
       "  height: 1em;\n",
       "  width: 1em;\n",
       "  text-decoration: none !important;\n",
       "  margin-left: 0.5em;\n",
       "  text-align: center;\n",
       "  /* unfitted */\n",
       "  border: var(--sklearn-color-unfitted-level-1) 1pt solid;\n",
       "  color: var(--sklearn-color-unfitted-level-1);\n",
       "}\n",
       "\n",
       ".sk-estimator-doc-link.fitted,\n",
       "a:link.sk-estimator-doc-link.fitted,\n",
       "a:visited.sk-estimator-doc-link.fitted {\n",
       "  /* fitted */\n",
       "  border: var(--sklearn-color-fitted-level-1) 1pt solid;\n",
       "  color: var(--sklearn-color-fitted-level-1);\n",
       "}\n",
       "\n",
       "/* On hover */\n",
       "div.sk-estimator:hover .sk-estimator-doc-link:hover,\n",
       ".sk-estimator-doc-link:hover,\n",
       "div.sk-label-container:hover .sk-estimator-doc-link:hover,\n",
       ".sk-estimator-doc-link:hover {\n",
       "  /* unfitted */\n",
       "  background-color: var(--sklearn-color-unfitted-level-3);\n",
       "  color: var(--sklearn-color-background);\n",
       "  text-decoration: none;\n",
       "}\n",
       "\n",
       "div.sk-estimator.fitted:hover .sk-estimator-doc-link.fitted:hover,\n",
       ".sk-estimator-doc-link.fitted:hover,\n",
       "div.sk-label-container:hover .sk-estimator-doc-link.fitted:hover,\n",
       ".sk-estimator-doc-link.fitted:hover {\n",
       "  /* fitted */\n",
       "  background-color: var(--sklearn-color-fitted-level-3);\n",
       "  color: var(--sklearn-color-background);\n",
       "  text-decoration: none;\n",
       "}\n",
       "\n",
       "/* Span, style for the box shown on hovering the info icon */\n",
       ".sk-estimator-doc-link span {\n",
       "  display: none;\n",
       "  z-index: 9999;\n",
       "  position: relative;\n",
       "  font-weight: normal;\n",
       "  right: .2ex;\n",
       "  padding: .5ex;\n",
       "  margin: .5ex;\n",
       "  width: min-content;\n",
       "  min-width: 20ex;\n",
       "  max-width: 50ex;\n",
       "  color: var(--sklearn-color-text);\n",
       "  box-shadow: 2pt 2pt 4pt #999;\n",
       "  /* unfitted */\n",
       "  background: var(--sklearn-color-unfitted-level-0);\n",
       "  border: .5pt solid var(--sklearn-color-unfitted-level-3);\n",
       "}\n",
       "\n",
       ".sk-estimator-doc-link.fitted span {\n",
       "  /* fitted */\n",
       "  background: var(--sklearn-color-fitted-level-0);\n",
       "  border: var(--sklearn-color-fitted-level-3);\n",
       "}\n",
       "\n",
       ".sk-estimator-doc-link:hover span {\n",
       "  display: block;\n",
       "}\n",
       "\n",
       "/* \"?\"-specific style due to the `<a>` HTML tag */\n",
       "\n",
       "#sk-container-id-3 a.estimator_doc_link {\n",
       "  float: right;\n",
       "  font-size: 1rem;\n",
       "  line-height: 1em;\n",
       "  font-family: monospace;\n",
       "  background-color: var(--sklearn-color-background);\n",
       "  border-radius: 1rem;\n",
       "  height: 1rem;\n",
       "  width: 1rem;\n",
       "  text-decoration: none;\n",
       "  /* unfitted */\n",
       "  color: var(--sklearn-color-unfitted-level-1);\n",
       "  border: var(--sklearn-color-unfitted-level-1) 1pt solid;\n",
       "}\n",
       "\n",
       "#sk-container-id-3 a.estimator_doc_link.fitted {\n",
       "  /* fitted */\n",
       "  border: var(--sklearn-color-fitted-level-1) 1pt solid;\n",
       "  color: var(--sklearn-color-fitted-level-1);\n",
       "}\n",
       "\n",
       "/* On hover */\n",
       "#sk-container-id-3 a.estimator_doc_link:hover {\n",
       "  /* unfitted */\n",
       "  background-color: var(--sklearn-color-unfitted-level-3);\n",
       "  color: var(--sklearn-color-background);\n",
       "  text-decoration: none;\n",
       "}\n",
       "\n",
       "#sk-container-id-3 a.estimator_doc_link.fitted:hover {\n",
       "  /* fitted */\n",
       "  background-color: var(--sklearn-color-fitted-level-3);\n",
       "}\n",
       "</style><div id=\"sk-container-id-3\" class=\"sk-top-container\"><div class=\"sk-text-repr-fallback\"><pre>RandomForestClassifier(class_weight=&#x27;balanced&#x27;)</pre><b>In a Jupyter environment, please rerun this cell to show the HTML representation or trust the notebook. <br />On GitHub, the HTML representation is unable to render, please try loading this page with nbviewer.org.</b></div><div class=\"sk-container\" hidden><div class=\"sk-item\"><div class=\"sk-estimator fitted sk-toggleable\"><input class=\"sk-toggleable__control sk-hidden--visually\" id=\"sk-estimator-id-3\" type=\"checkbox\" checked><label for=\"sk-estimator-id-3\" class=\"sk-toggleable__label fitted sk-toggleable__label-arrow\"><div><div>RandomForestClassifier</div></div><div><a class=\"sk-estimator-doc-link fitted\" rel=\"noreferrer\" target=\"_blank\" href=\"https://scikit-learn.org/1.6/modules/generated/sklearn.ensemble.RandomForestClassifier.html\">?<span>Documentation for RandomForestClassifier</span></a><span class=\"sk-estimator-doc-link fitted\">i<span>Fitted</span></span></div></label><div class=\"sk-toggleable__content fitted\"><pre>RandomForestClassifier(class_weight=&#x27;balanced&#x27;)</pre></div> </div></div></div></div>"
      ],
      "text/plain": [
       "RandomForestClassifier(class_weight='balanced')"
      ]
     },
     "execution_count": 103,
     "metadata": {},
     "output_type": "execute_result"
    }
   ],
   "source": [
    "from sklearn.ensemble import RandomForestClassifier\n",
    "\n",
    "# making the object  !! \n",
    "\n",
    "rf = RandomForestClassifier(class_weight = 'balanced')\n",
    "rf.fit(x_trained_data_smote, y_trained_data_smote)\n"
   ]
  },
  {
   "cell_type": "code",
   "execution_count": 104,
   "id": "021553da-288f-419f-8146-60b1629a26d3",
   "metadata": {},
   "outputs": [
    {
     "name": "stdout",
     "output_type": "stream",
     "text": [
      "accuracy_data_is_test_data  0.9974704532747218\n"
     ]
    }
   ],
   "source": [
    "from sklearn.metrics import accuracy_score , precision_score , recall_score , f1_score \n",
    "\n",
    "predict_by_rf = rf.predict(x_test_data)\n",
    "\n",
    "print(\"accuracy_data_is_test_data \",accuracy_score(y_test_data,predict_by_rf) )"
   ]
  },
  {
   "cell_type": "code",
   "execution_count": 105,
   "id": "cb639f46-35be-4200-b64c-83a3205387f0",
   "metadata": {},
   "outputs": [
    {
     "name": "stdout",
     "output_type": "stream",
     "text": [
      "precission_data_is_test_data 0.8350515463917526\n"
     ]
    }
   ],
   "source": [
    "print(\"precission_data_is_test_data\",precision_score(y_test_data,predict_by_rf))"
   ]
  },
  {
   "cell_type": "code",
   "execution_count": 106,
   "id": "442072e2-0af7-4209-93b7-210657b5d1ad",
   "metadata": {},
   "outputs": [
    {
     "name": "stdout",
     "output_type": "stream",
     "text": [
      "Recall score is :==  0.7015323117921386\n"
     ]
    }
   ],
   "source": [
    "recall = recall_score(y_test_data ,predict_by_rf )\n",
    "print(\"Recall score is :== \",recall)\n"
   ]
  },
  {
   "cell_type": "code",
   "execution_count": 107,
   "id": "a772659a-c509-49a6-a5b6-6d6aba5f4f9b",
   "metadata": {},
   "outputs": [
    {
     "name": "stdout",
     "output_type": "stream",
     "text": [
      "F1_score_is :> 0.7624909485879797\n"
     ]
    }
   ],
   "source": [
    "\n",
    "fi = f1_score(y_test_data , predict_by_rf)\n",
    "print(\"F1_score_is :>\" , fi)"
   ]
  },
  {
   "cell_type": "code",
   "execution_count": 108,
   "id": "055f25ec-2165-4f6a-a5a8-fd708e02a427",
   "metadata": {},
   "outputs": [],
   "source": [
    "import pickle \n",
    "\n",
    "# saving the model \n",
    "\n",
    "pickle.dump(rf,open(\"Model.pkl\",\"wb\"))"
   ]
  },
  {
   "cell_type": "markdown",
   "id": "90a993bc-48e1-4311-a864-769c025477e9",
   "metadata": {},
   "source": [
    "# Model 02"
   ]
  },
  {
   "cell_type": "code",
   "execution_count": 109,
   "id": "106a0eaf-2454-4ec7-b9d8-2be5098413bd",
   "metadata": {},
   "outputs": [
    {
     "name": "stdout",
     "output_type": "stream",
     "text": [
      "Requirement already satisfied: xgboost in /home/N3xthar-Voryx/N3x-Synth4r_venv/lib/python3.11/site-packages (3.0.2)\n",
      "Requirement already satisfied: numpy in /home/N3xthar-Voryx/N3x-Synth4r_venv/lib/python3.11/site-packages (from xgboost) (2.1.3)\n",
      "Requirement already satisfied: nvidia-nccl-cu12 in /home/N3xthar-Voryx/N3x-Synth4r_venv/lib/python3.11/site-packages (from xgboost) (2.21.5)\n",
      "Requirement already satisfied: scipy in /home/N3xthar-Voryx/N3x-Synth4r_venv/lib/python3.11/site-packages (from xgboost) (1.16.0)\n",
      "Note: you may need to restart the kernel to use updated packages.\n"
     ]
    }
   ],
   "source": [
    "pip install xgboost"
   ]
  },
  {
   "cell_type": "markdown",
   "id": "eb79f76c-e2f1-4563-a1c9-e845dd3de39c",
   "metadata": {},
   "source": [
    "1 ]    using the xgboost that is generate the data whcih is in the maniority "
   ]
  },
  {
   "cell_type": "code",
   "execution_count": 110,
   "id": "35308969-45dc-44bf-b889-a3f4c1b42709",
   "metadata": {},
   "outputs": [],
   "source": [
    "from xgboost import XGBClassifier "
   ]
  },
  {
   "cell_type": "code",
   "execution_count": 111,
   "id": "470566bf-a8bb-4420-9b99-248044e5318f",
   "metadata": {},
   "outputs": [
    {
     "name": "stdout",
     "output_type": "stream",
     "text": [
      "precission_by_xgb by smote :> 0.34791559444158515\n",
      "accuracy_by_xbg by smote :>  0.9896543081342665\n",
      "f1_score_by_xgb by smote     <|:)  0.501949136810841\n",
      "Recall score is by smote <|:)  0.9007328447701533\n"
     ]
    }
   ],
   "source": [
    "xgb  = XGBClassifier(scale_pos_weight = 10)      # adjust for the weight !! \n",
    "xgb.fit(x_trained_data_smote , y_trained_data_smote)\n",
    "\n",
    "predict_by_xgb =  xgb.predict(x_test_data)\n",
    "\n",
    "print(\"precission_by_xgb by smote :>\",precision_score(y_test_data,predict_by_xgb))\n",
    "print(\"accuracy_by_xbg by smote :> \",accuracy_score(y_test_data, predict_by_xgb))\n",
    "print(\"f1_score_by_xgb by smote     <|:) \" ,f1_score(y_test_data, predict_by_xgb) )\n",
    "print(\"Recall score is by smote <|:) \" , recall_score(y_test_data , predict_by_xgb))"
   ]
  },
  {
   "cell_type": "markdown",
   "id": "26937657-9670-4e26-81ab-aa6bf4d3194d",
   "metadata": {},
   "source": [
    "2 ] simply without generating the external false generated  data !! "
   ]
  },
  {
   "cell_type": "code",
   "execution_count": null,
   "id": "00c21e5c-ba7d-4ea3-94b3-fb9b536828c5",
   "metadata": {},
   "outputs": [],
   "source": []
  },
  {
   "cell_type": "markdown",
   "id": "4b76c9b9-4254-47a2-8ad8-6136016c05aa",
   "metadata": {},
   "source": [
    "\n",
    "# improvement using the threshold "
   ]
  },
  {
   "cell_type": "markdown",
   "id": "c9ec40ca-4805-46a4-a73f-262ad2b172a2",
   "metadata": {},
   "source": [
    "# i think it must be improve it yarrr "
   ]
  },
  {
   "cell_type": "code",
   "execution_count": null,
   "id": "9a06d116-2191-4198-a631-b60b39d779b5",
   "metadata": {},
   "outputs": [],
   "source": []
  },
  {
   "cell_type": "code",
   "execution_count": 112,
   "id": "a1893e28-38fe-4f83-bb00-e5f5c3f28776",
   "metadata": {},
   "outputs": [
    {
     "name": "stdout",
     "output_type": "stream",
     "text": [
      "Precission by xgb on test data  0.74185667752443\n",
      "Acurracy by xgb on test data  0.9965025931709951\n",
      "Accuracy by xgb on train data  0.9964187248153932\n",
      "Precission by xgb on train data  0.7305678614579139\n",
      "Recall on test data: 0.6069287141905396\n",
      "F1-score on test data: 0.6676438255771345\n"
     ]
    }
   ],
   "source": [
    "from sklearn.metrics import precision_score, accuracy_score\n",
    "from xgboost import XGBClassifier\n",
    "\n",
    "# Initialize the model\n",
    "xgb = XGBClassifier(scale_pos_weight=40, max_depth = 3 , learning_rate=0.05,\n",
    "    n_estimators=300)\n",
    "xgb.fit(x_trained_data, y_trained_data)\n",
    "\n",
    "# Accuracy and precision on test data !!\n",
    "\n",
    "# Get probabilities first for threshold tuning\n",
    "y_probs_test = xgb.predict_proba(x_test_data)[:,1]\n",
    "\n",
    "# Apply threshold tuning \n",
    "threshold = 0.95\n",
    "y_predict_by_xgb_without_smote_on_test_data = (y_probs_test > threshold).astype(int)\n",
    "\n",
    "print(\"Precission by xgb on test data \", precision_score(y_test_data, y_predict_by_xgb_without_smote_on_test_data))\n",
    "print(\"Acurracy by xgb on test data \", accuracy_score(y_test_data, y_predict_by_xgb_without_smote_on_test_data))\n",
    "\n",
    "# Accuracy and precision on the train data !!\n",
    "\n",
    "# Get probabilities for train data\n",
    "y_probs_train = xgb.predict_proba(x_trained_data)[:,1]\n",
    "\n",
    "# Apply same threshold\n",
    "prediction_on_y_train_data_without_smote = (y_probs_train > threshold).astype(int)\n",
    "\n",
    "print(\"Accuracy by xgb on train data \", accuracy_score(y_trained_data, prediction_on_y_train_data_without_smote))\n",
    "print(\"Precission by xgb on train data \", precision_score(y_trained_data, prediction_on_y_train_data_without_smote))\n",
    "\n",
    "from sklearn.metrics import recall_score, f1_score\n",
    "\n",
    "print(\"Recall on test data:\", recall_score(y_test_data, y_predict_by_xgb_without_smote_on_test_data))\n",
    "print(\"F1-score on test data:\", f1_score(y_test_data, y_predict_by_xgb_without_smote_on_test_data))\n",
    "\n",
    "\n"
   ]
  },
  {
   "cell_type": "code",
   "execution_count": null,
   "id": "6b48f958-8d8b-48b1-ae24-2aa3fba9e28b",
   "metadata": {},
   "outputs": [],
   "source": []
  },
  {
   "cell_type": "code",
   "execution_count": 113,
   "id": "0abf2dc9-b29a-4d7b-bfe9-5034c4d4f795",
   "metadata": {},
   "outputs": [],
   "source": [
    "# saving the merchant_repetation\n",
    "merchant_repetation.to_pickle(\"merchant_repetation.pkl\")"
   ]
  },
  {
   "cell_type": "code",
   "execution_count": 114,
   "id": "43139a99-3f3c-45c6-bdb2-eb6d5db98970",
   "metadata": {},
   "outputs": [],
   "source": [
    "# saving the cities_frequency   \n",
    "cities_frequency.to_pickle(\"cities_frequency.pkl\")"
   ]
  },
  {
   "cell_type": "code",
   "execution_count": 115,
   "id": "b86440b8-8ec7-4132-b1e6-e893dc824891",
   "metadata": {},
   "outputs": [],
   "source": [
    "# saving the job_frequency\n",
    "\n",
    "job_frequency.to_pickle(\"job_frequency.pkl\")"
   ]
  },
  {
   "cell_type": "code",
   "execution_count": 116,
   "id": "8bf790b5-cc2b-4dc4-9bea-28c577903bb1",
   "metadata": {},
   "outputs": [
    {
     "data": {
      "text/html": [
       "<div>\n",
       "<style scoped>\n",
       "    .dataframe tbody tr th:only-of-type {\n",
       "        vertical-align: middle;\n",
       "    }\n",
       "\n",
       "    .dataframe tbody tr th {\n",
       "        vertical-align: top;\n",
       "    }\n",
       "\n",
       "    .dataframe thead th {\n",
       "        text-align: right;\n",
       "    }\n",
       "</style>\n",
       "<table border=\"1\" class=\"dataframe\">\n",
       "  <thead>\n",
       "    <tr style=\"text-align: right;\">\n",
       "      <th></th>\n",
       "      <th>Unnamed: 0</th>\n",
       "      <th>trans_date_trans_time</th>\n",
       "      <th>merchant</th>\n",
       "      <th>amt</th>\n",
       "      <th>gender</th>\n",
       "      <th>city</th>\n",
       "      <th>zip</th>\n",
       "      <th>lat</th>\n",
       "      <th>long</th>\n",
       "      <th>city_pop</th>\n",
       "      <th>...</th>\n",
       "      <th>state_SD</th>\n",
       "      <th>state_TN</th>\n",
       "      <th>state_TX</th>\n",
       "      <th>state_UT</th>\n",
       "      <th>state_VA</th>\n",
       "      <th>state_VT</th>\n",
       "      <th>state_WA</th>\n",
       "      <th>state_WI</th>\n",
       "      <th>state_WV</th>\n",
       "      <th>state_WY</th>\n",
       "    </tr>\n",
       "  </thead>\n",
       "  <tbody>\n",
       "    <tr>\n",
       "      <th>1209563</th>\n",
       "      <td>1209563</td>\n",
       "      <td>2020-05-20 13:43:36</td>\n",
       "      <td>2185</td>\n",
       "      <td>42.73</td>\n",
       "      <td>0</td>\n",
       "      <td>530</td>\n",
       "      <td>68626</td>\n",
       "      <td>41.1832</td>\n",
       "      <td>-96.9882</td>\n",
       "      <td>614</td>\n",
       "      <td>...</td>\n",
       "      <td>False</td>\n",
       "      <td>False</td>\n",
       "      <td>False</td>\n",
       "      <td>False</td>\n",
       "      <td>False</td>\n",
       "      <td>False</td>\n",
       "      <td>False</td>\n",
       "      <td>False</td>\n",
       "      <td>False</td>\n",
       "      <td>False</td>\n",
       "    </tr>\n",
       "  </tbody>\n",
       "</table>\n",
       "<p>1 rows × 80 columns</p>\n",
       "</div>"
      ],
      "text/plain": [
       "         Unnamed: 0 trans_date_trans_time  merchant    amt  gender  city  \\\n",
       "1209563     1209563   2020-05-20 13:43:36      2185  42.73       0   530   \n",
       "\n",
       "           zip      lat     long  city_pop  ...  state_SD state_TN  state_TX  \\\n",
       "1209563  68626  41.1832 -96.9882       614  ...     False    False     False   \n",
       "\n",
       "         state_UT  state_VA  state_VT  state_WA  state_WI  state_WV  state_WY  \n",
       "1209563     False     False     False     False     False     False     False  \n",
       "\n",
       "[1 rows x 80 columns]"
      ]
     },
     "execution_count": 116,
     "metadata": {},
     "output_type": "execute_result"
    }
   ],
   "source": [
    "DataFrame.sample()"
   ]
  },
  {
   "cell_type": "code",
   "execution_count": null,
   "id": "a4a3ab5e-7a4f-4913-89a4-30cb8151e63c",
   "metadata": {},
   "outputs": [],
   "source": []
  },
  {
   "cell_type": "markdown",
   "id": "4f239ffb-58f4-4df8-8def-87637888cfd3",
   "metadata": {},
   "source": [
    "now we need the  whole column except for matching the exact column as in training and also in the testing !! "
   ]
  },
  {
   "cell_type": "code",
   "execution_count": 117,
   "id": "590a8d8a-6073-4318-a0e2-1b6189ac2512",
   "metadata": {},
   "outputs": [],
   "source": [
    "# saving the x_column as it as in the model is trained !!! \n"
   ]
  },
  {
   "cell_type": "code",
   "execution_count": 118,
   "id": "aa9962f6-89bd-4fec-8736-944fa4479a10",
   "metadata": {},
   "outputs": [],
   "source": [
    "with open(\"x_columns.pkl\" , 'wb') as f :\n",
    "    pickle.dump(x_columns , f)"
   ]
  },
  {
   "cell_type": "code",
   "execution_count": null,
   "id": "09e37cd3-2299-437f-b341-373b344541ec",
   "metadata": {},
   "outputs": [],
   "source": [
    "    "
   ]
  }
 ],
 "metadata": {
  "kernelspec": {
   "display_name": "Python 3 (ipykernel)",
   "language": "python",
   "name": "python3"
  },
  "language_info": {
   "codemirror_mode": {
    "name": "ipython",
    "version": 3
   },
   "file_extension": ".py",
   "mimetype": "text/x-python",
   "name": "python",
   "nbconvert_exporter": "python",
   "pygments_lexer": "ipython3",
   "version": "3.11.13"
  }
 },
 "nbformat": 4,
 "nbformat_minor": 5
}
